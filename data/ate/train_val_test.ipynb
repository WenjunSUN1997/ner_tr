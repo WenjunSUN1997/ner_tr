{
 "cells": [
  {
   "cell_type": "code",
   "execution_count": 1,
   "id": "d49d388e-99bb-4e3e-aa8c-0ebd714b0830",
   "metadata": {},
   "outputs": [],
   "source": [
    "import pandas as pd"
   ]
  },
  {
   "cell_type": "code",
   "execution_count": 2,
   "id": "b1dd5e74-4eb1-4a5c-b93b-124a15748055",
   "metadata": {},
   "outputs": [],
   "source": [
    "def train_val_test_split(lang, ver):\n",
    "    train1 = pd.read_csv(lang + '/' + lang + '_' + ver + '_corp.csv')\n",
    "    train2 = pd.read_csv(lang + '/' + lang + '_' + ver + '_wind.csv')\n",
    "    train = pd.concat([train1, train2])[['words', 'ner_c', 'ner_f']]\n",
    "    val = pd.read_csv(lang + '/' + lang + '_' + ver + '_equi.csv')[['words', 'ner_c', 'ner_f']]\n",
    "    test = pd.read_csv(lang + '/' + lang + '_' + ver + '_htfl.csv')[['words', 'ner_c', 'ner_f']]\n",
    "    train.to_csv('/home/tranthh/ner_tr/data/acter/' + lang + '_' + ver + '_train.csv',index = False)\n",
    "    val.to_csv('/home/tranthh/ner_tr/data/acter/' + lang + '_' + ver + '_val.csv',index = False)\n",
    "    test.to_csv('/home/tranthh/ner_tr/data/acter/' + lang + '_' + ver + '_test.csv',index = False)\n",
    "    return train, val, test"
   ]
  },
  {
   "cell_type": "code",
   "execution_count": 6,
   "id": "fd63a822-2088-45c1-9af5-fcd48ea68478",
   "metadata": {},
   "outputs": [],
   "source": [
    "train, val, test = train_val_test_split('nl','nes')"
   ]
  },
  {
   "cell_type": "code",
   "execution_count": null,
   "id": "455e4833-2d45-4644-915c-b708b8190d5c",
   "metadata": {},
   "outputs": [],
   "source": []
  }
 ],
 "metadata": {
  "kernelspec": {
   "display_name": "Python 3 (ipykernel)",
   "language": "python",
   "name": "python3"
  },
  "language_info": {
   "codemirror_mode": {
    "name": "ipython",
    "version": 3
   },
   "file_extension": ".py",
   "mimetype": "text/x-python",
   "name": "python",
   "nbconvert_exporter": "python",
   "pygments_lexer": "ipython3",
   "version": "3.7.13"
  }
 },
 "nbformat": 4,
 "nbformat_minor": 5
}
