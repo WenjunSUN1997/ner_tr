{
 "cells": [
  {
   "cell_type": "code",
   "execution_count": 1,
   "id": "71b0170c-3d5e-42e4-991c-4be229738033",
   "metadata": {},
   "outputs": [],
   "source": [
    "import pandas as pd\n",
    "import numpy as np"
   ]
  },
  {
   "cell_type": "code",
   "execution_count": 2,
   "id": "0303ca91-f920-4f6e-9615-3a82a2cfe6e1",
   "metadata": {},
   "outputs": [],
   "source": [
    "def split_list(lst, sep):\n",
    "    return [i.split() for i in ' '.join(lst).split(sep)]\n",
    "\n",
    "def convert_data(path):\n",
    "    df = pd.read_csv(path, skip_blank_lines=False,\n",
    "                     delimiter = ' ', header=None, names = ['words','labels'])\n",
    "    df = df.fillna('This is an end of a sentence.')\n",
    "    df = pd.DataFrame({'words': split_list(df['words'].tolist(), 'This is an end of a sentence.'),\n",
    "                   'labels': split_list(df['labels'].tolist(), 'This is an end of a sentence.')})\n",
    "    return df[:-1]\n",
    "\n",
    "def convert_label(df):\n",
    "    labels = {'O' :0, 'B-AGE':1, 'I-AGE':2,'B-DATE':3, 'I-DATE':4,'B-GENDER':5,'I-GENDER':6,\n",
    "              'B-JOB':7,'I-JOB':8,'B-LOCATION':9,'I-LOCATION':10,'B-NAME':11,'I-NAME':12,\n",
    "              'B-ORGANIZATION':13,'I-ORGANIZATION':14,'B-PATIENT_ID':15,'I-PATIENT_ID':16,\n",
    "              'B-SYMPTOM_AND_DISEASE':17,'I-SYMPTOM_AND_DISEASE':18, 'B-TRANSPORTATION':19, 'I-TRANSPORTATION':20}\n",
    "    cols = ['ner_c', 'ner_f']\n",
    "    for col in cols:\n",
    "        df[col] = [[labels[k] for k in x] for x in df[col]]\n",
    "    return df\n",
    "\n",
    "def read_json(path):\n",
    "    df = pd.read_json(path, lines=True)\n",
    "    df = df.rename(columns={'tags':'ner_c'})\n",
    "    df['ner_f'] = df['ner_c'].copy()\n",
    "    return convert_label(df)"
   ]
  },
  {
   "cell_type": "code",
   "execution_count": 3,
   "id": "da5f5a6d-5955-4038-8f42-3461adc3716f",
   "metadata": {},
   "outputs": [],
   "source": [
    "train = read_json('./PhoNER_COVID19/data/syllable/train_syllable.json')\n",
    "dev = read_json('./PhoNER_COVID19/data/syllable/dev_syllable.json')\n",
    "test = read_json('./PhoNER_COVID19/data/syllable/test_syllable.json')"
   ]
  },
  {
   "cell_type": "code",
   "execution_count": 4,
   "id": "ab0476f4-5006-45ad-ac47-9e19fc71a428",
   "metadata": {},
   "outputs": [
    {
     "data": {
      "text/plain": [
       "((5027, 3), (2000, 3), (3000, 3))"
      ]
     },
     "execution_count": 4,
     "metadata": {},
     "output_type": "execute_result"
    }
   ],
   "source": [
    "train.shape, dev.shape, test.shape"
   ]
  },
  {
   "cell_type": "code",
   "execution_count": 5,
   "id": "6920f4e1-7db4-4fab-8f70-8be14abfc56b",
   "metadata": {},
   "outputs": [],
   "source": [
    "train.to_csv('train_syllable_vi.csv')\n",
    "dev.to_csv('dev_syllable_vi.csv')\n",
    "test.to_csv('test_syllable_vi.csv')"
   ]
  },
  {
   "cell_type": "code",
   "execution_count": 9,
   "id": "48faeca2-a02c-4bab-b85a-9928ec63af01",
   "metadata": {},
   "outputs": [],
   "source": [
    "train = read_json('./PhoNER_COVID19/data/word/train_word.json')\n",
    "dev = read_json('./PhoNER_COVID19/data/word/dev_word.json')\n",
    "test = read_json('./PhoNER_COVID19/data/word/test_word.json')\n",
    "\n",
    "train.to_csv('train_word_vi.csv')\n",
    "dev.to_csv('dev_word_vi.csv')\n",
    "test.to_csv('test_word_vi.csv')"
   ]
  }
 ],
 "metadata": {
  "kernelspec": {
   "display_name": "Python 3 (ipykernel)",
   "language": "python",
   "name": "python3"
  },
  "language_info": {
   "codemirror_mode": {
    "name": "ipython",
    "version": 3
   },
   "file_extension": ".py",
   "mimetype": "text/x-python",
   "name": "python",
   "nbconvert_exporter": "python",
   "pygments_lexer": "ipython3",
   "version": "3.7.13"
  }
 },
 "nbformat": 4,
 "nbformat_minor": 5
}
